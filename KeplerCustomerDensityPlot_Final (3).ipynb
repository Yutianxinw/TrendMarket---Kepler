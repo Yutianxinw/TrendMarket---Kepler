{
 "cells": [
  {
   "cell_type": "code",
   "execution_count": 1,
   "id": "6fff0b71",
   "metadata": {},
   "outputs": [],
   "source": [
    "import pandas as pd\n",
    "from keplergl import KeplerGl"
   ]
  },
  {
   "cell_type": "code",
   "execution_count": 2,
   "id": "af6d3a09",
   "metadata": {
    "scrolled": false
   },
   "outputs": [
    {
     "name": "stdout",
     "output_type": "stream",
     "text": [
      "User Guide: https://docs.kepler.gl/docs/keplergl-jupyter\n",
      "California geospatial data with order frequency saved to california_orders_frequency.csv\n"
     ]
    },
    {
     "data": {
      "application/vnd.jupyter.widget-view+json": {
       "model_id": "6798e47fadcd4a3b82ac1a367609fbcf",
       "version_major": 2,
       "version_minor": 0
      },
      "text/plain": [
       "KeplerGl(data={'California Orders Frequency Heatmap': {'index': [0, 1, 2, 3, 4, 5, 6, 7, 8, 9, 10, 11, 12, 13,…"
      ]
     },
     "metadata": {},
     "output_type": "display_data"
    }
   ],
   "source": [
    "# File paths\n",
    "orders_file_path = 'Global Superstore Orders 2016.xlsx'\n",
    "uscities_file_path = 'uscities.csv'\n",
    "\n",
    "# Load the orders data\n",
    "orders_data = pd.read_excel(\n",
    "    orders_file_path,\n",
    "    sheet_name='Orders',\n",
    "    usecols=['State', 'City', 'Country']\n",
    ")\n",
    "\n",
    "# Filter for orders in California, USA\n",
    "california_orders = orders_data[(orders_data['State'] == 'California') & (orders_data['Country'] == 'United States')]\n",
    "\n",
    "### change the state name to visualize the state \n",
    "\n",
    "# Load cities data for latitude, longitude, and state\n",
    "uscities_df = pd.read_csv(uscities_file_path)\n",
    "\n",
    "# Filter for California cities using state_id\n",
    "california_cities = uscities_df[uscities_df['state_id'] == 'CA'][['city', 'lat', 'lng', 'state_id']]\n",
    "\n",
    "### change the state abbreviation \n",
    "\n",
    "# Merge California orders with filtered city geospatial data\n",
    "california_geospatial = california_orders.merge(\n",
    "    california_cities,\n",
    "    left_on='City',\n",
    "    right_on='city',\n",
    "    how='inner'  # Ensure only California cities are included\n",
    ")\n",
    "\n",
    "# Group by city and calculate the frequency of orders\n",
    "california_geospatial = california_geospatial.groupby(['City', 'lat', 'lng'], as_index=False).size()\n",
    "\n",
    "# Rename the 'size' column to 'OrderFrequency' for clarity\n",
    "california_geospatial.rename(columns={'size': 'OrderFrequency'}, inplace=True)\n",
    "\n",
    "# Prepare Kepler.gl visualization\n",
    "kepler_map = KeplerGl(height=700)\n",
    "kepler_map.add_data(data=california_geospatial, name='California Orders Frequency Heatmap')\n",
    "\n",
    "# Save the map configuration and data for Kepler.gl\n",
    "california_data_path = 'california_orders_frequency.csv'\n",
    "kepler_output_path = 'california_orders_frequency_heatmap.html'\n",
    "\n",
    "# Save California geospatial data with order frequency\n",
    "california_geospatial.to_csv(california_data_path, index=False)\n",
    "print(f\"California geospatial data with order frequency saved to {california_data_path}\")\n",
    "\n",
    "kepler_map"
   ]
  },
  {
   "cell_type": "code",
   "execution_count": 8,
   "id": "c3750a56",
   "metadata": {},
   "outputs": [
    {
     "name": "stdout",
     "output_type": "stream",
     "text": [
      "Map saved to california_orders_frequency_heatmap.html!\n",
      "Kepler map saved as california_orders_frequency_heatmap.html\n"
     ]
    }
   ],
   "source": [
    "# Save the Kepler map as an HTML file\n",
    "kepler_map.save_to_html(file_name=kepler_output_path)\n",
    "print(f\"Kepler map saved as {kepler_output_path}\")"
   ]
  },
  {
   "cell_type": "code",
   "execution_count": null,
   "id": "9b1ea9bf",
   "metadata": {},
   "outputs": [],
   "source": []
  }
 ],
 "metadata": {
  "kernelspec": {
   "display_name": "Python 3 (ipykernel)",
   "language": "python",
   "name": "python3"
  },
  "language_info": {
   "codemirror_mode": {
    "name": "ipython",
    "version": 3
   },
   "file_extension": ".py",
   "mimetype": "text/x-python",
   "name": "python",
   "nbconvert_exporter": "python",
   "pygments_lexer": "ipython3",
   "version": "3.12.4"
  }
 },
 "nbformat": 4,
 "nbformat_minor": 5
}
