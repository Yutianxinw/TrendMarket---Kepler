{
 "cells": [
  {
   "cell_type": "code",
   "execution_count": 1,
   "id": "871fd5c3",
   "metadata": {},
   "outputs": [],
   "source": [
    "import pandas as pd\n",
    "from keplergl import KeplerGl"
   ]
  },
  {
   "cell_type": "code",
   "execution_count": 3,
   "id": "29ec5c44",
   "metadata": {
    "scrolled": false
   },
   "outputs": [
    {
     "name": "stdout",
     "output_type": "stream",
     "text": [
      "User Guide: https://docs.kepler.gl/docs/keplergl-jupyter\n",
      "Region geospatial data with order frequency saved to eastern us_orders_frequency.csv\n"
     ]
    },
    {
     "data": {
      "application/vnd.jupyter.widget-view+json": {
       "model_id": "c450281fe3e2497d908d90605a4b272c",
       "version_major": 2,
       "version_minor": 0
      },
      "text/plain": [
       "KeplerGl(data={'Eastern US Region Orders Heatmap': {'index': [0, 1, 2, 3, 4, 5, 6, 7, 8, 9, 10, 11, 12, 13, 14…"
      ]
     },
     "metadata": {},
     "output_type": "display_data"
    }
   ],
   "source": [
    "# Updated script to generate heatmap based on region and order frequency\n",
    "\n",
    "import pandas as pd\n",
    "from keplergl import KeplerGl\n",
    "\n",
    "# File paths\n",
    "orders_file_path = 'Global Superstore Orders 2016.xlsx'\n",
    "uscities_file_path = 'uscities.csv'\n",
    "\n",
    "# Load the orders data with the Region column\n",
    "orders_data = pd.read_excel(\n",
    "    orders_file_path,\n",
    "    sheet_name='Orders',\n",
    "    usecols=['Region', 'State', 'City', 'Country']\n",
    ")\n",
    "\n",
    "# Prompt to filter by region (example region: 'West')\n",
    "selected_region = \"Eastern US\"  # You can adjust this value or make it dynamic\n",
    "\n",
    "# Filter for the selected region and ensure it's in the United States\n",
    "region_orders = orders_data[(orders_data['Region'] == selected_region) & (orders_data['Country'] == 'United States')]\n",
    "\n",
    "# Identify unique states in the selected region\n",
    "region_states = region_orders['State'].unique()\n",
    "\n",
    "# Load the cities data for latitude, longitude, and state\n",
    "uscities_df = pd.read_csv(uscities_file_path)\n",
    "\n",
    "# Filter for cities in the states of the selected region\n",
    "region_cities = uscities_df[uscities_df['state_name'].isin(region_states)][['city', 'lat', 'lng', 'state_name']]\n",
    "\n",
    "# Merge region orders with the geospatial data of cities in the region\n",
    "region_geospatial = region_orders.merge(\n",
    "    region_cities,\n",
    "    left_on=['City', 'State'],\n",
    "    right_on=['city', 'state_name'],\n",
    "    how='inner'  # Ensure only matched cities are included\n",
    ")\n",
    "\n",
    "# Group by city and calculate the frequency of orders\n",
    "region_geospatial = region_geospatial.groupby(['City', 'lat', 'lng'], as_index=False).size()\n",
    "\n",
    "# Rename the 'size' column to 'OrderFrequency' for clarity\n",
    "region_geospatial.rename(columns={'size': 'OrderFrequency'}, inplace=True)\n",
    "\n",
    "# Prepare Kepler.gl visualization\n",
    "kepler_map = KeplerGl(height=700)\n",
    "kepler_map.add_data(data=region_geospatial, name=f'{selected_region} Region Orders Heatmap')\n",
    "\n",
    "# Save the map configuration and data for Kepler.gl\n",
    "region_data_path = f'{selected_region.lower()}_orders_frequency.csv'\n",
    "kepler_output_path = f'{selected_region.lower()}_orders_frequency_heatmap.html'\n",
    "\n",
    "# Save the region geospatial data with order frequency\n",
    "region_geospatial.to_csv(region_data_path, index=False)\n",
    "print(f\"Region geospatial data with order frequency saved to {region_data_path}\")\n",
    "\n",
    "\n",
    "kepler_map"
   ]
  },
  {
   "cell_type": "code",
   "execution_count": 4,
   "id": "b3850ecf",
   "metadata": {},
   "outputs": [
    {
     "name": "stdout",
     "output_type": "stream",
     "text": [
      "Map saved to eastern us_orders_frequency_heatmap.html!\n",
      "Kepler map saved as eastern us_orders_frequency_heatmap.html\n"
     ]
    }
   ],
   "source": [
    "# Save the Kepler map as an HTML file\n",
    "kepler_map.save_to_html(file_name=kepler_output_path)\n",
    "print(f\"Kepler map saved as {kepler_output_path}\")"
   ]
  },
  {
   "cell_type": "code",
   "execution_count": null,
   "id": "b0b48830",
   "metadata": {},
   "outputs": [],
   "source": []
  }
 ],
 "metadata": {
  "kernelspec": {
   "display_name": "Python 3 (ipykernel)",
   "language": "python",
   "name": "python3"
  },
  "language_info": {
   "codemirror_mode": {
    "name": "ipython",
    "version": 3
   },
   "file_extension": ".py",
   "mimetype": "text/x-python",
   "name": "python",
   "nbconvert_exporter": "python",
   "pygments_lexer": "ipython3",
   "version": "3.12.4"
  }
 },
 "nbformat": 4,
 "nbformat_minor": 5
}
