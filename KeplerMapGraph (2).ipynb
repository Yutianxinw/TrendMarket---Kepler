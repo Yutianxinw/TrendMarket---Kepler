{
 "cells": [
  {
   "cell_type": "code",
   "execution_count": 6,
   "id": "7f2f7f59",
   "metadata": {},
   "outputs": [],
   "source": [
    "import pandas as pd\n",
    "from keplergl import KeplerGl"
   ]
  },
  {
   "cell_type": "code",
   "execution_count": 7,
   "id": "7ee7e34b",
   "metadata": {
    "scrolled": true
   },
   "outputs": [
    {
     "name": "stdout",
     "output_type": "stream",
     "text": [
      "                   State      Profit\n",
      "0                Alabama   5786.8253\n",
      "1                Arizona  -3427.9246\n",
      "2               Arkansas   4008.6871\n",
      "3             California  76381.3871\n",
      "4               Colorado  -6527.8579\n",
      "5            Connecticut   3511.4918\n",
      "6               Delaware   9977.3748\n",
      "7   District of Columbia   1059.5893\n",
      "8                Florida  -3399.3017\n",
      "9                Georgia  16250.0433\n",
      "10                 Idaho    826.7231\n",
      "11              Illinois -12607.8870\n",
      "12               Indiana  18382.9363\n",
      "13                  Iowa   1183.8119\n",
      "14                Kansas    836.4435\n",
      "15              Kentucky  11199.6966\n",
      "16             Louisiana   2196.1023\n",
      "17                 Maine    454.4862\n",
      "18              Maryland   7031.1788\n",
      "19         Massachusetts   6785.5016\n",
      "20              Michigan  24463.1876\n",
      "21             Minnesota  10823.1874\n",
      "22           Mississippi   3172.9762\n",
      "23              Missouri   6436.2105\n",
      "24               Montana   1833.3285\n",
      "25              Nebraska   2037.0942\n",
      "26                Nevada   3316.7659\n",
      "27         New Hampshire   1706.5028\n",
      "28            New Jersey   9772.9138\n",
      "29            New Mexico   1157.1161\n",
      "30              New York  74038.5486\n",
      "31        North Carolina  -7490.9122\n",
      "32          North Dakota    230.1497\n",
      "33                  Ohio -16971.3766\n",
      "34              Oklahoma   4853.9560\n",
      "35                Oregon  -1190.4705\n",
      "36          Pennsylvania -15559.9603\n",
      "37          Rhode Island   7285.6293\n",
      "38        South Carolina   1769.0566\n",
      "39          South Dakota    394.8283\n",
      "40             Tennessee  -5341.6936\n",
      "41                 Texas -25729.3563\n",
      "42                  Utah   2546.5335\n",
      "43               Vermont   2244.9783\n",
      "44              Virginia  18597.9504\n",
      "45            Washington  33402.6517\n",
      "46         West Virginia    185.9216\n",
      "47             Wisconsin   8401.8004\n",
      "48               Wyoming    100.1960\n"
     ]
    }
   ],
   "source": [
    "# Load the data\n",
    "# Load the Excel file and select specific columns\n",
    "data = pd.read_excel(\n",
    "    'Global Superstore Orders 2016.xlsx', \n",
    "    sheet_name='Orders', \n",
    "    usecols=['State', 'Profit', 'Country']\n",
    ")\n",
    "\n",
    "# Mapping of full state names to abbreviations\n",
    "state_name_to_abbreviation = { \n",
    "    'Alabama': 'AL', 'Arizona': 'AZ', 'Arkansas': 'AR', \n",
    "    'California': 'CA', 'Colorado': 'CO', 'Connecticut': 'CT', 'Delaware': 'DE',\n",
    "    'District of Columbia': 'DC', 'Florida': 'FL', 'Georgia': 'GA', 'Idaho': 'ID',\n",
    "    'Illinois': 'IL', 'Indiana': 'IN', 'Iowa': 'IA', 'Kansas': 'KS',\n",
    "    'Kentucky': 'KY', 'Louisiana': 'LA', 'Maine': 'ME', 'Maryland': 'MD',\n",
    "    'Massachusetts': 'MA', 'Michigan': 'MI', 'Minnesota': 'MN', 'Mississippi': 'MS',\n",
    "    'Missouri': 'MO', 'Montana': 'MT', 'Nebraska': 'NE', 'Nevada': 'NV',\n",
    "    'New Hampshire': 'NH', 'New Jersey': 'NJ', 'New Mexico': 'NM', 'New York': 'NY',\n",
    "    'North Carolina': 'NC', 'North Dakota': 'ND', 'Ohio': 'OH', 'Oklahoma': 'OK',\n",
    "    'Oregon': 'OR', 'Pennsylvania': 'PA', 'Rhode Island': 'RI', 'South Carolina': 'SC',\n",
    "    'South Dakota': 'SD', 'Tennessee': 'TN', 'Texas': 'TX', 'Utah': 'UT',\n",
    "    'Vermont': 'VT', 'Virginia': 'VA', 'Washington': 'WA', 'West Virginia': 'WV',\n",
    "    'Wisconsin': 'WI', 'Wyoming': 'WY'\n",
    "}\n",
    "\n",
    "# Filter data for the United States and calculate the sum of sales by state\n",
    "us_state_sales = data[data['Country'] == 'United States'].groupby('State')['Profit'].sum().reset_index()\n",
    "\n",
    "print(us_state_sales)"
   ]
  },
  {
   "cell_type": "code",
   "execution_count": 10,
   "id": "6ddd7f4e",
   "metadata": {
    "scrolled": false
   },
   "outputs": [
    {
     "name": "stdout",
     "output_type": "stream",
     "text": [
      "User Guide: https://docs.kepler.gl/docs/keplergl-jupyter\n"
     ]
    },
    {
     "data": {
      "application/vnd.jupyter.widget-view+json": {
       "model_id": "add541f2a8ca4adea025c080698777d2",
       "version_major": 2,
       "version_minor": 0
      },
      "text/plain": [
       "KeplerGl(data={'US State Borders with profit and Colors': {'type': 'FeatureCollection', 'features': [{'type': …"
      ]
     },
     "metadata": {},
     "output_type": "display_data"
    }
   ],
   "source": [
    "import requests\n",
    "\n",
    "# Load GeoJSON for US state borders\n",
    "geojson_url = 'https://raw.githubusercontent.com/python-visualization/folium-example-data/main/us_states.json'\n",
    "us_states_geojson = requests.get(geojson_url).json()\n",
    "\n",
    "# Add state abbreviations\n",
    "us_state_sales['StateAbbreviation'] = us_state_sales['State'].map(state_name_to_abbreviation)\n",
    "\n",
    "# Merge sales with GeoJSON\n",
    "for feature in us_states_geojson['features']:\n",
    "    state_name = feature['properties']['name']\n",
    "    state_abbreviation = state_name_to_abbreviation.get(state_name)\n",
    "    if state_abbreviation:\n",
    "        # Add sales and color data if it exists\n",
    "        sales_row = us_state_sales[us_state_sales['StateAbbreviation'] == state_abbreviation]\n",
    "        if not sales_row.empty:\n",
    "            feature['properties']['Profit'] = sales_row['Profit'].values[0]\n",
    "        else:\n",
    "            feature['properties']['Profit'] = None\n",
    "    else:\n",
    "        feature['properties']['Profit'] = None\n",
    "\n",
    "# Add state abbreviations\n",
    "us_state_sales['StateAbbreviation'] = us_state_sales['State'].map(state_name_to_abbreviation)\n",
    "\n",
    "# Initialize Kepler map\n",
    "map_kepler = KeplerGl(height=600)\n",
    "\n",
    "# Add GeoJSON data with merged sales and color\n",
    "map_kepler.add_data(data=us_states_geojson, name='US State Borders with profit and Colors')\n",
    "\n",
    "map_kepler\n"
   ]
  },
  {
   "cell_type": "code",
   "execution_count": 4,
   "id": "5d260a3c",
   "metadata": {},
   "outputs": [
    {
     "name": "stdout",
     "output_type": "stream",
     "text": [
      "Map saved to us_profit_map_with_colors.html!\n",
      "Map saved as us_profit_map_with_colors.html\n"
     ]
    }
   ],
   "source": [
    "# Save the map to an HTML file\n",
    "output_file = 'us_profit_map_with_colors.html'\n",
    "map_kepler.save_to_html(file_name=output_file)\n",
    "\n",
    "print(f\"Map saved as {output_file}\")\n",
    "\n",
    "\n",
    "## Selling point: instead of sorting and extract the column in excel or tableau, just a few code, you can extract, sort\n",
    "## calculate whatever column you want to show and 2 second, the map generated as a html you can use the html to change your layout anytime you want to."
   ]
  },
  {
   "cell_type": "code",
   "execution_count": 1,
   "id": "977f0618",
   "metadata": {},
   "outputs": [
    {
     "ename": "SyntaxError",
     "evalue": "invalid syntax (2079654019.py, line 1)",
     "output_type": "error",
     "traceback": [
      "\u001b[1;36m  Cell \u001b[1;32mIn[1], line 1\u001b[1;36m\u001b[0m\n\u001b[1;33m    http://localhost:8888/view/us_profit_map_with_colors.html\u001b[0m\n\u001b[1;37m         ^\u001b[0m\n\u001b[1;31mSyntaxError\u001b[0m\u001b[1;31m:\u001b[0m invalid syntax\n"
     ]
    }
   ],
   "source": []
  },
  {
   "cell_type": "code",
   "execution_count": null,
   "id": "b99a39ef",
   "metadata": {},
   "outputs": [],
   "source": []
  }
 ],
 "metadata": {
  "kernelspec": {
   "display_name": "Python 3 (ipykernel)",
   "language": "python",
   "name": "python3"
  },
  "language_info": {
   "codemirror_mode": {
    "name": "ipython",
    "version": 3
   },
   "file_extension": ".py",
   "mimetype": "text/x-python",
   "name": "python",
   "nbconvert_exporter": "python",
   "pygments_lexer": "ipython3",
   "version": "3.12.4"
  }
 },
 "nbformat": 4,
 "nbformat_minor": 5
}
