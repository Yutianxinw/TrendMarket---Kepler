{
 "cells": [
  {
   "cell_type": "code",
   "execution_count": 1,
   "id": "38dc4e9f",
   "metadata": {},
   "outputs": [
    {
     "name": "stdout",
     "output_type": "stream",
     "text": [
      "User Guide: https://docs.kepler.gl/docs/keplergl-jupyter\n"
     ]
    },
    {
     "data": {
      "application/vnd.jupyter.widget-view+json": {
       "model_id": "484034c629b2423c8c0b4d3be323a025",
       "version_major": 2,
       "version_minor": 0
      },
      "text/plain": [
       "KeplerGl(height=700)"
      ]
     },
     "metadata": {},
     "output_type": "display_data"
    }
   ],
   "source": [
    "import pandas as pd\n",
    "from keplergl import KeplerGl\n",
    "map_1 = KeplerGl(height=700)\n",
    "map_1"
   ]
  },
  {
   "cell_type": "code",
   "execution_count": 2,
   "id": "5d068ca3",
   "metadata": {},
   "outputs": [
    {
     "name": "stdout",
     "output_type": "stream",
     "text": [
      "User Guide: https://docs.kepler.gl/docs/keplergl-jupyter\n",
      "Filtered crime data saved to filtered_crime_data.csv\n",
      "Map saved to crime_data_geospatial_map.html!\n",
      "Kepler map saved as crime_data_geospatial_map.html\n"
     ]
    },
    {
     "data": {
      "application/vnd.jupyter.widget-view+json": {
       "model_id": "104d2691426d4940958596e302227ac2",
       "version_major": 2,
       "version_minor": 0
      },
      "text/plain": [
       "KeplerGl(data={'Crime Data': {'index': [0, 1, 2, 3, 4, 5, 6, 7, 8, 9, 10, 11, 12, 13, 14, 15, 16, 17, 18, 19, …"
      ]
     },
     "metadata": {},
     "output_type": "display_data"
    }
   ],
   "source": [
    "import pandas as pd\n",
    "from keplergl import KeplerGl\n",
    "\n",
    "# File paths\n",
    "crime_data_file_path = 'Crime_Data.csv'\n",
    "\n",
    "# Load the crime data\n",
    "crime_data = pd.read_csv(crime_data_file_path)\n",
    "\n",
    "# Filter for relevant columns: Latitude, Longitude, and Offense\n",
    "filtered_crime_data = crime_data[['Latitude', 'Longitude', 'Offense']]\n",
    "\n",
    "# Ensure there are no missing values in the necessary columns\n",
    "filtered_crime_data = filtered_crime_data.dropna(subset=['Latitude', 'Longitude', 'Offense'])\n",
    "\n",
    "# Prepare Kepler.gl visualization\n",
    "kepler_map = KeplerGl(height=700)\n",
    "kepler_map.add_data(data=filtered_crime_data, name='Crime Data')\n",
    "\n",
    "# Save the map configuration and data for Kepler.gl\n",
    "crime_data_output_path = 'filtered_crime_data.csv'\n",
    "kepler_output_path = 'crime_data_geospatial_map.html'\n",
    "\n",
    "# Save filtered crime data for record\n",
    "filtered_crime_data.to_csv(crime_data_output_path, index=False)\n",
    "print(f\"Filtered crime data saved to {crime_data_output_path}\")\n",
    "\n",
    "# Save the Kepler map as an HTML file\n",
    "kepler_map.save_to_html(file_name=kepler_output_path)\n",
    "print(f\"Kepler map saved as {kepler_output_path}\")\n",
    "\n",
    "kepler_map\n"
   ]
  },
  {
   "cell_type": "code",
   "execution_count": null,
   "id": "a86a4992",
   "metadata": {},
   "outputs": [],
   "source": []
  }
 ],
 "metadata": {
  "kernelspec": {
   "display_name": "Python 3 (ipykernel)",
   "language": "python",
   "name": "python3"
  },
  "language_info": {
   "codemirror_mode": {
    "name": "ipython",
    "version": 3
   },
   "file_extension": ".py",
   "mimetype": "text/x-python",
   "name": "python",
   "nbconvert_exporter": "python",
   "pygments_lexer": "ipython3",
   "version": "3.12.3"
  }
 },
 "nbformat": 4,
 "nbformat_minor": 5
}
