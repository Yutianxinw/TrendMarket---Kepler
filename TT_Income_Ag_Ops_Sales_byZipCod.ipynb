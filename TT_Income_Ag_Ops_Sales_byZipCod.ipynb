{
 "cells": [
  {
   "cell_type": "code",
   "execution_count": 12,
   "id": "cc5b95e8-959b-4819-aec8-a9ec046b89ae",
   "metadata": {},
   "outputs": [],
   "source": [
    "import pandas as pd\n",
    "from keplergl import KeplerGl\n",
    "from geopy.geocoders import Nominatim\n",
    "from geopy.extra.rate_limiter import RateLimiter\n",
    "import pgeocode"
   ]
  },
  {
   "cell_type": "code",
   "execution_count": 19,
   "id": "847c5791",
   "metadata": {},
   "outputs": [
    {
     "name": "stdout",
     "output_type": "stream",
     "text": [
      "       State  State ANSI  Zip Code  Value\n",
      "0  MINNESOTA          27     55001     38\n",
      "1  MINNESOTA          27     55003      1\n",
      "2  MINNESOTA          27     55005     12\n",
      "3  MINNESOTA          27     55006     80\n",
      "4  MINNESOTA          27     55007     88\n"
     ]
    }
   ],
   "source": [
    "df = pd.read_csv('TT_Income_Ag_Ops_Sales_byZipCode.csv')\n",
    "print(df.head())"
   ]
  },
  {
   "cell_type": "code",
   "execution_count": 20,
   "id": "3639adeb",
   "metadata": {
    "scrolled": true
   },
   "outputs": [
    {
     "name": "stdout",
     "output_type": "stream",
     "text": [
      "       State  State ANSI  Zip Code  Value  latitude  longitude\n",
      "0  MINNESOTA          27     55001   38.0   44.8697   -92.8234\n",
      "1  MINNESOTA          27     55003    1.0   45.0214   -92.7844\n",
      "2  MINNESOTA          27     55005   12.0   45.3887   -93.2315\n",
      "3  MINNESOTA          27     55006   80.0   45.7175   -93.2037\n",
      "4  MINNESOTA          27     55007   88.0   45.9474   -93.0736\n"
     ]
    }
   ],
   "source": [
    "country_code = 'us'\n",
    "nomi = pgeocode.Nominatim(country_code)\n",
    "def get_lat_lon(zip_code):\n",
    "    location = nomi.query_postal_code(zip_code)\n",
    "    if location is not None:\n",
    "        return location.latitude, location.longitude\n",
    "    return None, None\n",
    "\n",
    "df['latitude'], df['longitude'] = zip(*df['Zip Code'].apply(get_lat_lon))\n",
    "df['latitude'] = df['latitude'].fillna(0)\n",
    "df['longitude'] = df['longitude'].fillna(0)\n",
    "df['Value'] = df['Value'].replace(',', '', regex=True).astype(float)\n",
    "print(df.head())"
   ]
  },
  {
   "cell_type": "code",
   "execution_count": 26,
   "id": "c099e5fb",
   "metadata": {
    "scrolled": false
   },
   "outputs": [
    {
     "name": "stdout",
     "output_type": "stream",
     "text": [
      "User Guide: https://docs.kepler.gl/docs/keplergl-jupyter\n"
     ]
    },
    {
     "data": {
      "application/vnd.jupyter.widget-view+json": {
       "model_id": "977af2172ed9475189ca484a673abb54",
       "version_major": 2,
       "version_minor": 0
      },
      "text/plain": [
       "KeplerGl(data={'Total Income Agricultural Operations Sales by ZipCode 2022': {'index': [0, 1, 2, 3, 4, 5, 6, 7…"
      ]
     },
     "metadata": {},
     "output_type": "display_data"
    }
   ],
   "source": [
    "map1 = KeplerGl(height=700)\n",
    "map1.add_data(data=df,name='Total Income Agricultural Operations Sales by ZipCode 2022')\n",
    "map1"
   ]
  },
  {
   "cell_type": "code",
   "execution_count": null,
   "id": "e9a4efcf",
   "metadata": {},
   "outputs": [],
   "source": []
  }
 ],
 "metadata": {
  "kernelspec": {
   "display_name": "Python 3 (ipykernel)",
   "language": "python",
   "name": "python3"
  },
  "language_info": {
   "codemirror_mode": {
    "name": "ipython",
    "version": 3
   },
   "file_extension": ".py",
   "mimetype": "text/x-python",
   "name": "python",
   "nbconvert_exporter": "python",
   "pygments_lexer": "ipython3",
   "version": "3.13.0"
  }
 },
 "nbformat": 4,
 "nbformat_minor": 5
}
